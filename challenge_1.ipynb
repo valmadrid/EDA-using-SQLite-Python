{
 "cells": [
  {
   "cell_type": "markdown",
   "metadata": {},
   "source": [
    "#### Tasks:\t \n",
    "1)\tWrite a SQL Query combining vendors to calculate the Oct CPM by platform.\n",
    "\n",
    "2)\tAnalyze the data from Vendor U and provide 3 insights and 3 recommendations.\n",
    "\n",
    "3) \tPrepare a one slide executive summary of your findings from 1 & 2. \n",
    "\n",
    "#### Notes:\n",
    "* CPM = Estimated revenue / Sold Impressions * 1000\n",
    "* Vendors = vendor_s + vendor_u + vendor_t"
   ]
  },
  {
   "cell_type": "code",
   "execution_count": 35,
   "metadata": {},
   "outputs": [],
   "source": [
    "import warnings\n",
    "warnings.filterwarnings(\"ignore\", category=DeprecationWarning)\n",
    "\n",
    "import pandas as pd\n",
    "pd.set_option(\"display.max_columns\", None)\n",
    "pd.set_option(\"display.max_colwidth\", -1)\n",
    "pd.set_option('display.float_format', lambda x: '%.2f' % x)\n",
    "\n",
    "import numpy as np\n",
    "import math\n",
    "\n",
    "%matplotlib inline\n",
    "import matplotlib.pyplot as plt\n",
    "import seaborn as sns\n",
    "sns.set_style(\"dark\")\n",
    "sns.set_context(\"paper\", font_scale=1.8)\n",
    "sns.set_palette(\"GnBu_d\")\n",
    "\n",
    "import pandas_profiling\n",
    "import sqlite3"
   ]
  },
  {
   "cell_type": "code",
   "execution_count": 1,
   "metadata": {},
   "outputs": [
    {
     "name": "stdout",
     "output_type": "stream",
     "text": [
      "/Users/valmadrid/DataScienceBootcamp/Projects/Others/SQL-Challenge\r\n"
     ]
    }
   ],
   "source": [
    "!pwd"
   ]
  },
  {
   "cell_type": "markdown",
   "metadata": {},
   "source": [
    "Creates a connection to c1 sqlite database:"
   ]
  },
  {
   "cell_type": "code",
   "execution_count": 4,
   "metadata": {},
   "outputs": [],
   "source": [
    "conn = sqlite3.connect(\"c1.sqlite\")\n",
    "cur = conn.cursor()"
   ]
  },
  {
   "cell_type": "markdown",
   "metadata": {},
   "source": [
    "Checks what is currently in this databse:"
   ]
  },
  {
   "cell_type": "code",
   "execution_count": 5,
   "metadata": {
    "scrolled": true
   },
   "outputs": [
    {
     "data": {
      "text/html": [
       "<div>\n",
       "<style scoped>\n",
       "    .dataframe tbody tr th:only-of-type {\n",
       "        vertical-align: middle;\n",
       "    }\n",
       "\n",
       "    .dataframe tbody tr th {\n",
       "        vertical-align: top;\n",
       "    }\n",
       "\n",
       "    .dataframe thead th {\n",
       "        text-align: right;\n",
       "    }\n",
       "</style>\n",
       "<table border=\"1\" class=\"dataframe\">\n",
       "  <thead>\n",
       "    <tr style=\"text-align: right;\">\n",
       "      <th></th>\n",
       "      <th>type</th>\n",
       "      <th>name</th>\n",
       "      <th>tbl_name</th>\n",
       "      <th>rootpage</th>\n",
       "      <th>sql</th>\n",
       "    </tr>\n",
       "  </thead>\n",
       "  <tbody>\n",
       "  </tbody>\n",
       "</table>\n",
       "</div>"
      ],
      "text/plain": [
       "Empty DataFrame\n",
       "Columns: [type, name, tbl_name, rootpage, sql]\n",
       "Index: []"
      ]
     },
     "execution_count": 5,
     "metadata": {},
     "output_type": "execute_result"
    }
   ],
   "source": [
    "cur.execute(\n",
    "    \"\"\"\n",
    "    SELECT type, name, tbl_name, rootpage, sql \n",
    "    FROM sqlite_master ORDER by type, tbl_name;\n",
    "    \"\"\"\n",
    ")\n",
    "db = pd.DataFrame(cur.fetchall(), columns=[i[0] for i in cur.description])\n",
    "db"
   ]
  },
  {
   "cell_type": "markdown",
   "metadata": {},
   "source": [
    "Previews the tables in the xlsx file:"
   ]
  },
  {
   "cell_type": "code",
   "execution_count": 8,
   "metadata": {
    "scrolled": false
   },
   "outputs": [
    {
     "data": {
      "text/plain": [
       "'vendor_s'"
      ]
     },
     "metadata": {},
     "output_type": "display_data"
    },
    {
     "data": {
      "text/html": [
       "<div>\n",
       "<style scoped>\n",
       "    .dataframe tbody tr th:only-of-type {\n",
       "        vertical-align: middle;\n",
       "    }\n",
       "\n",
       "    .dataframe tbody tr th {\n",
       "        vertical-align: top;\n",
       "    }\n",
       "\n",
       "    .dataframe thead th {\n",
       "        text-align: right;\n",
       "    }\n",
       "</style>\n",
       "<table border=\"1\" class=\"dataframe\">\n",
       "  <thead>\n",
       "    <tr style=\"text-align: right;\">\n",
       "      <th></th>\n",
       "      <th>TRAFFIC</th>\n",
       "      <th>TAG_ID</th>\n",
       "      <th>TYPE</th>\n",
       "      <th>SITE</th>\n",
       "      <th>REQUESTS</th>\n",
       "      <th>IMPRESSIONS</th>\n",
       "      <th>FILL_RATE</th>\n",
       "      <th>CPM</th>\n",
       "      <th>EARNINGS</th>\n",
       "      <th>UPDATED_DATE</th>\n",
       "    </tr>\n",
       "  </thead>\n",
       "  <tbody>\n",
       "    <tr>\n",
       "      <td>0</td>\n",
       "      <td>Combined</td>\n",
       "      <td>467649</td>\n",
       "      <td>DISPLAY</td>\n",
       "      <td>all traffic</td>\n",
       "      <td>511918</td>\n",
       "      <td>481718</td>\n",
       "      <td>0.94</td>\n",
       "      <td>0.14</td>\n",
       "      <td>67.75</td>\n",
       "      <td>2017-10-21</td>\n",
       "    </tr>\n",
       "    <tr>\n",
       "      <td>1</td>\n",
       "      <td>Combined</td>\n",
       "      <td>468681</td>\n",
       "      <td>DISPLAY</td>\n",
       "      <td>all traffic</td>\n",
       "      <td>439230</td>\n",
       "      <td>142757</td>\n",
       "      <td>0.33</td>\n",
       "      <td>0.15</td>\n",
       "      <td>20.80</td>\n",
       "      <td>2017-10-21</td>\n",
       "    </tr>\n",
       "    <tr>\n",
       "      <td>2</td>\n",
       "      <td>Combined</td>\n",
       "      <td>482946</td>\n",
       "      <td>DISPLAY</td>\n",
       "      <td>all traffic</td>\n",
       "      <td>167608</td>\n",
       "      <td>20837</td>\n",
       "      <td>0.12</td>\n",
       "      <td>0.13</td>\n",
       "      <td>2.74</td>\n",
       "      <td>2017-10-21</td>\n",
       "    </tr>\n",
       "    <tr>\n",
       "      <td>3</td>\n",
       "      <td>Combined</td>\n",
       "      <td>504560</td>\n",
       "      <td>DISPLAY</td>\n",
       "      <td>all traffic</td>\n",
       "      <td>175971</td>\n",
       "      <td>13414</td>\n",
       "      <td>0.08</td>\n",
       "      <td>0.27</td>\n",
       "      <td>3.66</td>\n",
       "      <td>2017-10-21</td>\n",
       "    </tr>\n",
       "    <tr>\n",
       "      <td>4</td>\n",
       "      <td>Combined</td>\n",
       "      <td>482944</td>\n",
       "      <td>DISPLAY</td>\n",
       "      <td>all traffic</td>\n",
       "      <td>284197</td>\n",
       "      <td>111739</td>\n",
       "      <td>0.39</td>\n",
       "      <td>0.13</td>\n",
       "      <td>14.15</td>\n",
       "      <td>2017-10-21</td>\n",
       "    </tr>\n",
       "  </tbody>\n",
       "</table>\n",
       "</div>"
      ],
      "text/plain": [
       "    TRAFFIC  TAG_ID     TYPE         SITE  REQUESTS  IMPRESSIONS  FILL_RATE  \\\n",
       "0  Combined  467649  DISPLAY  all traffic  511918    481718      0.94         \n",
       "1  Combined  468681  DISPLAY  all traffic  439230    142757      0.33         \n",
       "2  Combined  482946  DISPLAY  all traffic  167608    20837       0.12         \n",
       "3  Combined  504560  DISPLAY  all traffic  175971    13414       0.08         \n",
       "4  Combined  482944  DISPLAY  all traffic  284197    111739      0.39         \n",
       "\n",
       "   CPM  EARNINGS UPDATED_DATE  \n",
       "0 0.14 67.75     2017-10-21    \n",
       "1 0.15 20.80     2017-10-21    \n",
       "2 0.13 2.74      2017-10-21    \n",
       "3 0.27 3.66      2017-10-21    \n",
       "4 0.13 14.15     2017-10-21    "
      ]
     },
     "metadata": {},
     "output_type": "display_data"
    },
    {
     "data": {
      "text/plain": [
       "'vendor_u'"
      ]
     },
     "metadata": {},
     "output_type": "display_data"
    },
    {
     "data": {
      "text/html": [
       "<div>\n",
       "<style scoped>\n",
       "    .dataframe tbody tr th:only-of-type {\n",
       "        vertical-align: middle;\n",
       "    }\n",
       "\n",
       "    .dataframe tbody tr th {\n",
       "        vertical-align: top;\n",
       "    }\n",
       "\n",
       "    .dataframe thead th {\n",
       "        text-align: right;\n",
       "    }\n",
       "</style>\n",
       "<table border=\"1\" class=\"dataframe\">\n",
       "  <thead>\n",
       "    <tr style=\"text-align: right;\">\n",
       "      <th></th>\n",
       "      <th>PLATFORM</th>\n",
       "      <th>DATE</th>\n",
       "      <th>DEVICE_TYPE</th>\n",
       "      <th>VIDEO_IMPRESSIONS</th>\n",
       "      <th>EARNINGS</th>\n",
       "      <th>CLICKS</th>\n",
       "    </tr>\n",
       "  </thead>\n",
       "  <tbody>\n",
       "    <tr>\n",
       "      <td>0</td>\n",
       "      <td>Unruly</td>\n",
       "      <td>2017-04-14</td>\n",
       "      <td>Desktop</td>\n",
       "      <td>4265</td>\n",
       "      <td>0.00</td>\n",
       "      <td>1073</td>\n",
       "    </tr>\n",
       "    <tr>\n",
       "      <td>1</td>\n",
       "      <td>Unruly</td>\n",
       "      <td>2017-02-13</td>\n",
       "      <td>Desktop</td>\n",
       "      <td>8585</td>\n",
       "      <td>0.00</td>\n",
       "      <td>1286</td>\n",
       "    </tr>\n",
       "    <tr>\n",
       "      <td>2</td>\n",
       "      <td>Unruly</td>\n",
       "      <td>2017-02-25</td>\n",
       "      <td>Desktop</td>\n",
       "      <td>2806</td>\n",
       "      <td>0.00</td>\n",
       "      <td>282</td>\n",
       "    </tr>\n",
       "    <tr>\n",
       "      <td>3</td>\n",
       "      <td>Unruly</td>\n",
       "      <td>2017-01-02</td>\n",
       "      <td>Desktop</td>\n",
       "      <td>1801</td>\n",
       "      <td>0.00</td>\n",
       "      <td>371</td>\n",
       "    </tr>\n",
       "    <tr>\n",
       "      <td>4</td>\n",
       "      <td>Unruly</td>\n",
       "      <td>2017-03-19</td>\n",
       "      <td>Desktop</td>\n",
       "      <td>6241</td>\n",
       "      <td>0.00</td>\n",
       "      <td>51</td>\n",
       "    </tr>\n",
       "  </tbody>\n",
       "</table>\n",
       "</div>"
      ],
      "text/plain": [
       "  PLATFORM       DATE DEVICE_TYPE  VIDEO_IMPRESSIONS  EARNINGS  CLICKS\n",
       "0  Unruly  2017-04-14  Desktop     4265              0.00       1073  \n",
       "1  Unruly  2017-02-13  Desktop     8585              0.00       1286  \n",
       "2  Unruly  2017-02-25  Desktop     2806              0.00       282   \n",
       "3  Unruly  2017-01-02  Desktop     1801              0.00       371   \n",
       "4  Unruly  2017-03-19  Desktop     6241              0.00       51    "
      ]
     },
     "metadata": {},
     "output_type": "display_data"
    },
    {
     "data": {
      "text/plain": [
       "'vendor_b'"
      ]
     },
     "metadata": {},
     "output_type": "display_data"
    },
    {
     "data": {
      "text/html": [
       "<div>\n",
       "<style scoped>\n",
       "    .dataframe tbody tr th:only-of-type {\n",
       "        vertical-align: middle;\n",
       "    }\n",
       "\n",
       "    .dataframe tbody tr th {\n",
       "        vertical-align: top;\n",
       "    }\n",
       "\n",
       "    .dataframe thead th {\n",
       "        text-align: right;\n",
       "    }\n",
       "</style>\n",
       "<table border=\"1\" class=\"dataframe\">\n",
       "  <thead>\n",
       "    <tr style=\"text-align: right;\">\n",
       "      <th></th>\n",
       "      <th>DATE_INTERVAL</th>\n",
       "      <th>TAGS</th>\n",
       "      <th>SIZE</th>\n",
       "      <th>RECEIVED_IMPS</th>\n",
       "      <th>IMPS</th>\n",
       "      <th>REVENUE</th>\n",
       "      <th>CLICKS</th>\n",
       "    </tr>\n",
       "  </thead>\n",
       "  <tbody>\n",
       "    <tr>\n",
       "      <td>0</td>\n",
       "      <td>Oct 11, 2017</td>\n",
       "      <td>scmp.com_Dkt (21895)</td>\n",
       "      <td>728x90</td>\n",
       "      <td>58400</td>\n",
       "      <td>31228</td>\n",
       "      <td>2.08</td>\n",
       "      <td>8349</td>\n",
       "    </tr>\n",
       "    <tr>\n",
       "      <td>1</td>\n",
       "      <td>Oct 11, 2017</td>\n",
       "      <td>scmp.com_Dkt (21895)</td>\n",
       "      <td>300x250</td>\n",
       "      <td>39645</td>\n",
       "      <td>9935</td>\n",
       "      <td>16.17</td>\n",
       "      <td>1245</td>\n",
       "    </tr>\n",
       "    <tr>\n",
       "      <td>2</td>\n",
       "      <td>Oct 11, 2017</td>\n",
       "      <td>scmp.com_Mob (21917)</td>\n",
       "      <td>300x250</td>\n",
       "      <td>128795</td>\n",
       "      <td>124022</td>\n",
       "      <td>9.37</td>\n",
       "      <td>59713</td>\n",
       "    </tr>\n",
       "    <tr>\n",
       "      <td>3</td>\n",
       "      <td>Oct 19, 2017</td>\n",
       "      <td>scmp.com_Dkt (21895)</td>\n",
       "      <td>728x90</td>\n",
       "      <td>59581</td>\n",
       "      <td>51182</td>\n",
       "      <td>56.78</td>\n",
       "      <td>21983</td>\n",
       "    </tr>\n",
       "    <tr>\n",
       "      <td>4</td>\n",
       "      <td>Oct 19, 2017</td>\n",
       "      <td>scmp.com_Dkt (21895)</td>\n",
       "      <td>300x250</td>\n",
       "      <td>84681</td>\n",
       "      <td>45925</td>\n",
       "      <td>12.84</td>\n",
       "      <td>12453</td>\n",
       "    </tr>\n",
       "  </tbody>\n",
       "</table>\n",
       "</div>"
      ],
      "text/plain": [
       "  DATE_INTERVAL                  TAGS     SIZE  RECEIVED_IMPS    IMPS  \\\n",
       "0  Oct 11, 2017  scmp.com_Dkt (21895)  728x90   58400          31228    \n",
       "1  Oct 11, 2017  scmp.com_Dkt (21895)  300x250  39645          9935     \n",
       "2  Oct 11, 2017  scmp.com_Mob (21917)  300x250  128795         124022   \n",
       "3  Oct 19, 2017  scmp.com_Dkt (21895)  728x90   59581          51182    \n",
       "4  Oct 19, 2017  scmp.com_Dkt (21895)  300x250  84681          45925    \n",
       "\n",
       "   REVENUE  CLICKS  \n",
       "0 2.08      8349    \n",
       "1 16.17     1245    \n",
       "2 9.37      59713   \n",
       "3 56.78     21983   \n",
       "4 12.84     12453   "
      ]
     },
     "metadata": {},
     "output_type": "display_data"
    },
    {
     "data": {
      "text/plain": [
       "'vendor_t'"
      ]
     },
     "metadata": {},
     "output_type": "display_data"
    },
    {
     "data": {
      "text/html": [
       "<div>\n",
       "<style scoped>\n",
       "    .dataframe tbody tr th:only-of-type {\n",
       "        vertical-align: middle;\n",
       "    }\n",
       "\n",
       "    .dataframe tbody tr th {\n",
       "        vertical-align: top;\n",
       "    }\n",
       "\n",
       "    .dataframe thead th {\n",
       "        text-align: right;\n",
       "    }\n",
       "</style>\n",
       "<table border=\"1\" class=\"dataframe\">\n",
       "  <thead>\n",
       "    <tr style=\"text-align: right;\">\n",
       "      <th></th>\n",
       "      <th>WEBSITE</th>\n",
       "      <th>PLACEMENT</th>\n",
       "      <th>DAY</th>\n",
       "      <th>PUBLISHER_BILLABLE_VOLUME</th>\n",
       "      <th>CLICK</th>\n",
       "      <th>TEADS_BILLING_USD</th>\n",
       "    </tr>\n",
       "  </thead>\n",
       "  <tbody>\n",
       "    <tr>\n",
       "      <td>0</td>\n",
       "      <td>32277 - scmp.com</td>\n",
       "      <td>48540 - MS-inRead-Mobile-scmp.com</td>\n",
       "      <td>2017-10-08</td>\n",
       "      <td>904</td>\n",
       "      <td>250</td>\n",
       "      <td>40.38 USD</td>\n",
       "    </tr>\n",
       "    <tr>\n",
       "      <td>1</td>\n",
       "      <td>32277 - scmp.com</td>\n",
       "      <td>48540 - MS-inRead-Mobile-scmp.com</td>\n",
       "      <td>2017-10-08</td>\n",
       "      <td>4382</td>\n",
       "      <td>969</td>\n",
       "      <td>32.25 USD</td>\n",
       "    </tr>\n",
       "    <tr>\n",
       "      <td>2</td>\n",
       "      <td>32277 - scmp.com</td>\n",
       "      <td>48540 - MS-inRead-Mobile-scmp.com</td>\n",
       "      <td>2017-10-08</td>\n",
       "      <td>868</td>\n",
       "      <td>234</td>\n",
       "      <td>39.27 USD</td>\n",
       "    </tr>\n",
       "    <tr>\n",
       "      <td>3</td>\n",
       "      <td>32277 - scmp.com</td>\n",
       "      <td>48540 - MS-inRead-Mobile-scmp.com</td>\n",
       "      <td>2017-10-08</td>\n",
       "      <td>3738</td>\n",
       "      <td>237</td>\n",
       "      <td>9.26 USD</td>\n",
       "    </tr>\n",
       "    <tr>\n",
       "      <td>4</td>\n",
       "      <td>32277 - scmp.com</td>\n",
       "      <td>48540 - MS-inRead-Mobile-scmp.com</td>\n",
       "      <td>2017-10-08</td>\n",
       "      <td>3270</td>\n",
       "      <td>1078</td>\n",
       "      <td>48.09 USD</td>\n",
       "    </tr>\n",
       "  </tbody>\n",
       "</table>\n",
       "</div>"
      ],
      "text/plain": [
       "            WEBSITE                          PLACEMENT        DAY  \\\n",
       "0  32277 - scmp.com  48540 - MS-inRead-Mobile-scmp.com 2017-10-08   \n",
       "1  32277 - scmp.com  48540 - MS-inRead-Mobile-scmp.com 2017-10-08   \n",
       "2  32277 - scmp.com  48540 - MS-inRead-Mobile-scmp.com 2017-10-08   \n",
       "3  32277 - scmp.com  48540 - MS-inRead-Mobile-scmp.com 2017-10-08   \n",
       "4  32277 - scmp.com  48540 - MS-inRead-Mobile-scmp.com 2017-10-08   \n",
       "\n",
       "   PUBLISHER_BILLABLE_VOLUME  CLICK TEADS_BILLING_USD  \n",
       "0  904                        250    40.38 USD         \n",
       "1  4382                       969    32.25 USD         \n",
       "2  868                        234    39.27 USD         \n",
       "3  3738                       237    9.26 USD          \n",
       "4  3270                       1078   48.09 USD         "
      ]
     },
     "metadata": {},
     "output_type": "display_data"
    },
    {
     "data": {
      "text/plain": [
       "'Definitions - Groupings'"
      ]
     },
     "metadata": {},
     "output_type": "display_data"
    },
    {
     "data": {
      "text/html": [
       "<div>\n",
       "<style scoped>\n",
       "    .dataframe tbody tr th:only-of-type {\n",
       "        vertical-align: middle;\n",
       "    }\n",
       "\n",
       "    .dataframe tbody tr th {\n",
       "        vertical-align: top;\n",
       "    }\n",
       "\n",
       "    .dataframe thead th {\n",
       "        text-align: right;\n",
       "    }\n",
       "</style>\n",
       "<table border=\"1\" class=\"dataframe\">\n",
       "  <thead>\n",
       "    <tr style=\"text-align: right;\">\n",
       "      <th></th>\n",
       "      <th>Vendor</th>\n",
       "      <th>tagID</th>\n",
       "      <th>Zone Name</th>\n",
       "      <th>Platform</th>\n",
       "      <th>Ad Products</th>\n",
       "    </tr>\n",
       "  </thead>\n",
       "  <tbody>\n",
       "    <tr>\n",
       "      <td>0</td>\n",
       "      <td>S</td>\n",
       "      <td>482944</td>\n",
       "      <td>ROS</td>\n",
       "      <td>Desktop</td>\n",
       "      <td>Island Ad 2</td>\n",
       "    </tr>\n",
       "    <tr>\n",
       "      <td>1</td>\n",
       "      <td>NaN</td>\n",
       "      <td>467645</td>\n",
       "      <td>ROS</td>\n",
       "      <td>Mobile Web</td>\n",
       "      <td>Island Ad 1</td>\n",
       "    </tr>\n",
       "    <tr>\n",
       "      <td>2</td>\n",
       "      <td>NaN</td>\n",
       "      <td>501047</td>\n",
       "      <td>ROS</td>\n",
       "      <td>Desktop</td>\n",
       "      <td>Island Ad 2</td>\n",
       "    </tr>\n",
       "    <tr>\n",
       "      <td>3</td>\n",
       "      <td>NaN</td>\n",
       "      <td>464637</td>\n",
       "      <td>ROS</td>\n",
       "      <td>Desktop</td>\n",
       "      <td>Super Leaderboard / Billboard</td>\n",
       "    </tr>\n",
       "    <tr>\n",
       "      <td>4</td>\n",
       "      <td>NaN</td>\n",
       "      <td>464635</td>\n",
       "      <td>ROS</td>\n",
       "      <td>Desktop</td>\n",
       "      <td>Island Ad 1</td>\n",
       "    </tr>\n",
       "  </tbody>\n",
       "</table>\n",
       "</div>"
      ],
      "text/plain": [
       "  Vendor    tagID Zone Name    Platform                    Ad Products\n",
       "0  S       482944  ROS       Desktop     Island Ad 2                  \n",
       "1  NaN     467645  ROS       Mobile Web  Island Ad 1                  \n",
       "2  NaN     501047  ROS       Desktop     Island Ad 2                  \n",
       "3  NaN     464637  ROS       Desktop     Super Leaderboard / Billboard\n",
       "4  NaN     464635  ROS       Desktop     Island Ad 1                  "
      ]
     },
     "metadata": {},
     "output_type": "display_data"
    },
    {
     "data": {
      "text/plain": [
       "'Definitions - Fields'"
      ]
     },
     "metadata": {},
     "output_type": "display_data"
    },
    {
     "data": {
      "text/html": [
       "<div>\n",
       "<style scoped>\n",
       "    .dataframe tbody tr th:only-of-type {\n",
       "        vertical-align: middle;\n",
       "    }\n",
       "\n",
       "    .dataframe tbody tr th {\n",
       "        vertical-align: top;\n",
       "    }\n",
       "\n",
       "    .dataframe thead th {\n",
       "        text-align: right;\n",
       "    }\n",
       "</style>\n",
       "<table border=\"1\" class=\"dataframe\">\n",
       "  <thead>\n",
       "    <tr style=\"text-align: right;\">\n",
       "      <th></th>\n",
       "      <th>Unnamed: 0</th>\n",
       "      <th>Standardized field names</th>\n",
       "      <th>Unnamed: 2</th>\n",
       "      <th>Unnamed: 3</th>\n",
       "      <th>Unnamed: 4</th>\n",
       "      <th>Unnamed: 5</th>\n",
       "    </tr>\n",
       "  </thead>\n",
       "  <tbody>\n",
       "    <tr>\n",
       "      <td>0</td>\n",
       "      <td>Vendor</td>\n",
       "      <td>Date</td>\n",
       "      <td>Ad request</td>\n",
       "      <td>Sold Impressions</td>\n",
       "      <td>No Of Clicks</td>\n",
       "      <td>Estimated revenue</td>\n",
       "    </tr>\n",
       "    <tr>\n",
       "      <td>1</td>\n",
       "      <td>S</td>\n",
       "      <td>UPDATED_DATE</td>\n",
       "      <td>Requests</td>\n",
       "      <td>Impressions</td>\n",
       "      <td>NaN</td>\n",
       "      <td>Earnings</td>\n",
       "    </tr>\n",
       "    <tr>\n",
       "      <td>2</td>\n",
       "      <td>U*</td>\n",
       "      <td>DATE</td>\n",
       "      <td>NaN</td>\n",
       "      <td>video impressions</td>\n",
       "      <td>Clicks</td>\n",
       "      <td>Earnings</td>\n",
       "    </tr>\n",
       "    <tr>\n",
       "      <td>3</td>\n",
       "      <td>B</td>\n",
       "      <td>Date Interval</td>\n",
       "      <td>Received IMPS</td>\n",
       "      <td>IMPS</td>\n",
       "      <td>Clicks</td>\n",
       "      <td>Revenue</td>\n",
       "    </tr>\n",
       "    <tr>\n",
       "      <td>4</td>\n",
       "      <td>T</td>\n",
       "      <td>DAY</td>\n",
       "      <td>NaN</td>\n",
       "      <td>publisher_billable_volume</td>\n",
       "      <td>Click</td>\n",
       "      <td>teads_billing_usd</td>\n",
       "    </tr>\n",
       "  </tbody>\n",
       "</table>\n",
       "</div>"
      ],
      "text/plain": [
       "  Unnamed: 0 Standardized field names     Unnamed: 2  \\\n",
       "0  Vendor     Date                     Ad request      \n",
       "1  S          UPDATED_DATE             Requests        \n",
       "2  U*         DATE                     NaN             \n",
       "3  B          Date Interval            Received IMPS   \n",
       "4  T          DAY                      NaN             \n",
       "\n",
       "                  Unnamed: 3    Unnamed: 4         Unnamed: 5  \n",
       "0  Sold Impressions           No Of Clicks  Estimated revenue  \n",
       "1  Impressions                NaN           Earnings           \n",
       "2  video impressions          Clicks        Earnings           \n",
       "3  IMPS                       Clicks        Revenue            \n",
       "4  publisher_billable_volume  Click         teads_billing_usd  "
      ]
     },
     "metadata": {},
     "output_type": "display_data"
    },
    {
     "data": {
      "text/plain": [
       "'Question'"
      ]
     },
     "metadata": {},
     "output_type": "display_data"
    },
    {
     "data": {
      "text/html": [
       "<div>\n",
       "<style scoped>\n",
       "    .dataframe tbody tr th:only-of-type {\n",
       "        vertical-align: middle;\n",
       "    }\n",
       "\n",
       "    .dataframe tbody tr th {\n",
       "        vertical-align: top;\n",
       "    }\n",
       "\n",
       "    .dataframe thead th {\n",
       "        text-align: right;\n",
       "    }\n",
       "</style>\n",
       "<table border=\"1\" class=\"dataframe\">\n",
       "  <thead>\n",
       "    <tr style=\"text-align: right;\">\n",
       "      <th></th>\n",
       "      <th>Time Limit: 3 hours</th>\n",
       "      <th>Unnamed: 1</th>\n",
       "    </tr>\n",
       "  </thead>\n",
       "  <tbody>\n",
       "    <tr>\n",
       "      <td>0</td>\n",
       "      <td>NaN</td>\n",
       "      <td>NaN</td>\n",
       "    </tr>\n",
       "    <tr>\n",
       "      <td>1</td>\n",
       "      <td>1)</td>\n",
       "      <td>Write a SQL Query combining vendors to calculate the Oct CPM by platform.</td>\n",
       "    </tr>\n",
       "    <tr>\n",
       "      <td>2</td>\n",
       "      <td>NaN</td>\n",
       "      <td>NaN</td>\n",
       "    </tr>\n",
       "    <tr>\n",
       "      <td>3</td>\n",
       "      <td>2)</td>\n",
       "      <td>Analyze the data from Vendor U and provide 3 insights and 3 recommendations.</td>\n",
       "    </tr>\n",
       "    <tr>\n",
       "      <td>4</td>\n",
       "      <td>NaN</td>\n",
       "      <td>NaN</td>\n",
       "    </tr>\n",
       "  </tbody>\n",
       "</table>\n",
       "</div>"
      ],
      "text/plain": [
       "  Time Limit: 3 hours  \\\n",
       "0  NaN                  \n",
       "1  1)                   \n",
       "2  NaN                  \n",
       "3  2)                   \n",
       "4  NaN                  \n",
       "\n",
       "                                                                     Unnamed: 1  \n",
       "0  NaN                                                                           \n",
       "1  Write a SQL Query combining vendors to calculate the Oct CPM by platform.     \n",
       "2  NaN                                                                           \n",
       "3  Analyze the data from Vendor U and provide 3 insights and 3 recommendations.  \n",
       "4  NaN                                                                           "
      ]
     },
     "metadata": {},
     "output_type": "display_data"
    }
   ],
   "source": [
    "df_excel = pd.read_excel(\"source_1.xlsx\", sheet_name=None)\n",
    "\n",
    "for name, table in df_excel.items():\n",
    "    display(name)\n",
    "    display(table.head())"
   ]
  },
  {
   "cell_type": "markdown",
   "metadata": {},
   "source": [
    "Adds the xlsx to sqlite database:"
   ]
  },
  {
   "cell_type": "code",
   "execution_count": 21,
   "metadata": {},
   "outputs": [
    {
     "name": "stdout",
     "output_type": "stream",
     "text": [
      "vendor_s added to c1.sqlite\n",
      "\n",
      "vendor_u added to c1.sqlite\n",
      "\n",
      "vendor_b added to c1.sqlite\n",
      "\n",
      "vendor_t added to c1.sqlite\n",
      "\n",
      "definitions_groupings added to c1.sqlite\n",
      "\n",
      "definitions_fields added to c1.sqlite\n",
      "\n",
      "question added to c1.sqlite\n",
      "\n"
     ]
    },
    {
     "name": "stderr",
     "output_type": "stream",
     "text": [
      "/Applications/anaconda3/envs/learn-env/lib/python3.6/site-packages/pandas/core/generic.py:2712: UserWarning: The spaces in these column names will not be changed. In pandas versions < 0.14, spaces were converted to underscores.\n",
      "  method=method,\n"
     ]
    }
   ],
   "source": [
    "for table, df in df_excel.items():\n",
    "    table_name=table.lower().replace(\"-\",\"_\").replace(\" \",\"\")\n",
    "    df.to_sql(table_name, conn, if_exists=\"replace\", index=False)\n",
    "    print(\"{} added to c1.sqlite\\n\".format(table_name))"
   ]
  },
  {
   "cell_type": "code",
   "execution_count": 8,
   "metadata": {
    "scrolled": false
   },
   "outputs": [
    {
     "data": {
      "text/html": [
       "<div>\n",
       "<style scoped>\n",
       "    .dataframe tbody tr th:only-of-type {\n",
       "        vertical-align: middle;\n",
       "    }\n",
       "\n",
       "    .dataframe tbody tr th {\n",
       "        vertical-align: top;\n",
       "    }\n",
       "\n",
       "    .dataframe thead th {\n",
       "        text-align: right;\n",
       "    }\n",
       "</style>\n",
       "<table border=\"1\" class=\"dataframe\">\n",
       "  <thead>\n",
       "    <tr style=\"text-align: right;\">\n",
       "      <th></th>\n",
       "      <th>type</th>\n",
       "      <th>name</th>\n",
       "      <th>tbl_name</th>\n",
       "      <th>rootpage</th>\n",
       "      <th>sql</th>\n",
       "    </tr>\n",
       "  </thead>\n",
       "  <tbody>\n",
       "    <tr>\n",
       "      <td>0</td>\n",
       "      <td>table</td>\n",
       "      <td>definitions_fields</td>\n",
       "      <td>definitions_fields</td>\n",
       "      <td>42</td>\n",
       "      <td>CREATE TABLE \"definitions_fields\" (\\n\"Unnamed: 0\" TEXT,\\n  \"Standardized field names\" TEXT,\\n  \"Unnamed: 2\" TEXT,\\n  \"Unnamed: 3\" TEXT,\\n  \"Unnamed: 4\" TEXT,\\n  \"Unnamed: 5\" TEXT\\n)</td>\n",
       "    </tr>\n",
       "    <tr>\n",
       "      <td>1</td>\n",
       "      <td>table</td>\n",
       "      <td>definitions_groupings</td>\n",
       "      <td>definitions_groupings</td>\n",
       "      <td>41</td>\n",
       "      <td>CREATE TABLE \"definitions_groupings\" (\\n\"Vendor \" TEXT,\\n  \"tagID\" TEXT,\\n  \"Zone Name\" TEXT,\\n  \"Platform\" TEXT,\\n  \"Ad Products\" TEXT\\n)</td>\n",
       "    </tr>\n",
       "    <tr>\n",
       "      <td>2</td>\n",
       "      <td>table</td>\n",
       "      <td>question</td>\n",
       "      <td>question</td>\n",
       "      <td>43</td>\n",
       "      <td>CREATE TABLE \"question\" (\\n\"Time Limit: 3 hours\" TEXT,\\n  \"Unnamed: 1\" TEXT\\n)</td>\n",
       "    </tr>\n",
       "    <tr>\n",
       "      <td>3</td>\n",
       "      <td>table</td>\n",
       "      <td>vendor_b</td>\n",
       "      <td>vendor_b</td>\n",
       "      <td>24</td>\n",
       "      <td>CREATE TABLE \"vendor_b\" (\\n\"DATE_INTERVAL\" TEXT,\\n  \"TAGS\" TEXT,\\n  \"SIZE\" TEXT,\\n  \"RECEIVED_IMPS\" INTEGER,\\n  \"IMPS\" INTEGER,\\n  \"REVENUE\" REAL,\\n  \"CLICKS\" INTEGER\\n)</td>\n",
       "    </tr>\n",
       "    <tr>\n",
       "      <td>4</td>\n",
       "      <td>table</td>\n",
       "      <td>vendor_s</td>\n",
       "      <td>vendor_s</td>\n",
       "      <td>2</td>\n",
       "      <td>CREATE TABLE \"vendor_s\" (\\n\"TRAFFIC\" TEXT,\\n  \"TAG_ID\" INTEGER,\\n  \"TYPE\" TEXT,\\n  \"SITE\" TEXT,\\n  \"REQUESTS\" INTEGER,\\n  \"IMPRESSIONS\" INTEGER,\\n  \"FILL_RATE\" REAL,\\n  \"CPM\" REAL,\\n  \"EARNINGS\" REAL,\\n  \"UPDATED_DATE\" TIMESTAMP\\n)</td>\n",
       "    </tr>\n",
       "    <tr>\n",
       "      <td>5</td>\n",
       "      <td>table</td>\n",
       "      <td>vendor_t</td>\n",
       "      <td>vendor_t</td>\n",
       "      <td>25</td>\n",
       "      <td>CREATE TABLE \"vendor_t\" (\\n\"WEBSITE\" TEXT,\\n  \"PLACEMENT\" TEXT,\\n  \"DAY\" TIMESTAMP,\\n  \"PUBLISHER_BILLABLE_VOLUME\" INTEGER,\\n  \"CLICK\" INTEGER,\\n  \"TEADS_BILLING_USD\" TEXT\\n)</td>\n",
       "    </tr>\n",
       "    <tr>\n",
       "      <td>6</td>\n",
       "      <td>table</td>\n",
       "      <td>vendor_u</td>\n",
       "      <td>vendor_u</td>\n",
       "      <td>11</td>\n",
       "      <td>CREATE TABLE \"vendor_u\" (\\n\"PLATFORM\" TEXT,\\n  \"DATE\" TIMESTAMP,\\n  \"DEVICE_TYPE\" TEXT,\\n  \"VIDEO_IMPRESSIONS\" INTEGER,\\n  \"EARNINGS\" REAL,\\n  \"CLICKS\" INTEGER\\n)</td>\n",
       "    </tr>\n",
       "  </tbody>\n",
       "</table>\n",
       "</div>"
      ],
      "text/plain": [
       "    type                   name               tbl_name  rootpage  \\\n",
       "0  table  definitions_fields     definitions_fields     42         \n",
       "1  table  definitions_groupings  definitions_groupings  41         \n",
       "2  table  question               question               43         \n",
       "3  table  vendor_b               vendor_b               24         \n",
       "4  table  vendor_s               vendor_s               2          \n",
       "5  table  vendor_t               vendor_t               25         \n",
       "6  table  vendor_u               vendor_u               11         \n",
       "\n",
       "                                                                                                                                                                                                                                       sql  \n",
       "0  CREATE TABLE \"definitions_fields\" (\\n\"Unnamed: 0\" TEXT,\\n  \"Standardized field names\" TEXT,\\n  \"Unnamed: 2\" TEXT,\\n  \"Unnamed: 3\" TEXT,\\n  \"Unnamed: 4\" TEXT,\\n  \"Unnamed: 5\" TEXT\\n)                                                    \n",
       "1  CREATE TABLE \"definitions_groupings\" (\\n\"Vendor \" TEXT,\\n  \"tagID\" TEXT,\\n  \"Zone Name\" TEXT,\\n  \"Platform\" TEXT,\\n  \"Ad Products\" TEXT\\n)                                                                                               \n",
       "2  CREATE TABLE \"question\" (\\n\"Time Limit: 3 hours\" TEXT,\\n  \"Unnamed: 1\" TEXT\\n)                                                                                                                                                           \n",
       "3  CREATE TABLE \"vendor_b\" (\\n\"DATE_INTERVAL\" TEXT,\\n  \"TAGS\" TEXT,\\n  \"SIZE\" TEXT,\\n  \"RECEIVED_IMPS\" INTEGER,\\n  \"IMPS\" INTEGER,\\n  \"REVENUE\" REAL,\\n  \"CLICKS\" INTEGER\\n)                                                                \n",
       "4  CREATE TABLE \"vendor_s\" (\\n\"TRAFFIC\" TEXT,\\n  \"TAG_ID\" INTEGER,\\n  \"TYPE\" TEXT,\\n  \"SITE\" TEXT,\\n  \"REQUESTS\" INTEGER,\\n  \"IMPRESSIONS\" INTEGER,\\n  \"FILL_RATE\" REAL,\\n  \"CPM\" REAL,\\n  \"EARNINGS\" REAL,\\n  \"UPDATED_DATE\" TIMESTAMP\\n)  \n",
       "5  CREATE TABLE \"vendor_t\" (\\n\"WEBSITE\" TEXT,\\n  \"PLACEMENT\" TEXT,\\n  \"DAY\" TIMESTAMP,\\n  \"PUBLISHER_BILLABLE_VOLUME\" INTEGER,\\n  \"CLICK\" INTEGER,\\n  \"TEADS_BILLING_USD\" TEXT\\n)                                                           \n",
       "6  CREATE TABLE \"vendor_u\" (\\n\"PLATFORM\" TEXT,\\n  \"DATE\" TIMESTAMP,\\n  \"DEVICE_TYPE\" TEXT,\\n  \"VIDEO_IMPRESSIONS\" INTEGER,\\n  \"EARNINGS\" REAL,\\n  \"CLICKS\" INTEGER\\n)                                                                       "
      ]
     },
     "execution_count": 8,
     "metadata": {},
     "output_type": "execute_result"
    }
   ],
   "source": [
    "cur.execute(\n",
    "    \"\"\"\n",
    "    SELECT type, name, tbl_name, rootpage, sql \n",
    "    fROM sqlite_master \n",
    "    ORDER by type, tbl_name;\n",
    "    \"\"\"\n",
    ")\n",
    "db = pd.DataFrame(cur.fetchall(), columns=[i[0] for i in cur.description])\n",
    "db"
   ]
  },
  {
   "cell_type": "markdown",
   "metadata": {},
   "source": [
    "#### Vendor S"
   ]
  },
  {
   "cell_type": "markdown",
   "metadata": {},
   "source": [
    "Checks max and min dates:"
   ]
  },
  {
   "cell_type": "code",
   "execution_count": 23,
   "metadata": {
    "scrolled": true
   },
   "outputs": [
    {
     "data": {
      "text/plain": [
       "[('2017-11-04 00:00:00',)]"
      ]
     },
     "metadata": {},
     "output_type": "display_data"
    },
    {
     "data": {
      "text/plain": [
       "[('2017-10-12 00:00:00',)]"
      ]
     },
     "metadata": {},
     "output_type": "display_data"
    }
   ],
   "source": [
    "cur.execute(\"\"\"SELECT MAX(UPDATED_DATE) FROM vendor_s;\"\"\")\n",
    "display(cur.fetchall())\n",
    "cur.execute(\"\"\"SELECT MIN(UPDATED_DATE) FROM vendor_s;\"\"\")\n",
    "display(cur.fetchall())"
   ]
  },
  {
   "cell_type": "code",
   "execution_count": 139,
   "metadata": {
    "scrolled": false
   },
   "outputs": [
    {
     "data": {
      "text/html": [
       "<div>\n",
       "<style scoped>\n",
       "    .dataframe tbody tr th:only-of-type {\n",
       "        vertical-align: middle;\n",
       "    }\n",
       "\n",
       "    .dataframe tbody tr th {\n",
       "        vertical-align: top;\n",
       "    }\n",
       "\n",
       "    .dataframe thead th {\n",
       "        text-align: right;\n",
       "    }\n",
       "</style>\n",
       "<table border=\"1\" class=\"dataframe\">\n",
       "  <thead>\n",
       "    <tr style=\"text-align: right;\">\n",
       "      <th></th>\n",
       "      <th>vendor</th>\n",
       "      <th>date</th>\n",
       "      <th>mapper</th>\n",
       "      <th>zone_name</th>\n",
       "      <th>platform</th>\n",
       "      <th>ad_products</th>\n",
       "      <th>sold_impressions</th>\n",
       "      <th>est_revenue</th>\n",
       "      <th>cpm</th>\n",
       "    </tr>\n",
       "  </thead>\n",
       "  <tbody>\n",
       "    <tr>\n",
       "      <td>0</td>\n",
       "      <td>S</td>\n",
       "      <td>2017-10-21 00:00:00</td>\n",
       "      <td>467649</td>\n",
       "      <td>ROS</td>\n",
       "      <td>Desktop</td>\n",
       "      <td>Super Leaderboard / Billboard</td>\n",
       "      <td>481718</td>\n",
       "      <td>67.75</td>\n",
       "      <td>0.14</td>\n",
       "    </tr>\n",
       "    <tr>\n",
       "      <td>1</td>\n",
       "      <td>S</td>\n",
       "      <td>2017-10-21 00:00:00</td>\n",
       "      <td>468681</td>\n",
       "      <td>ROS</td>\n",
       "      <td>Desktop</td>\n",
       "      <td>Super Leaderboard / Billboard</td>\n",
       "      <td>142757</td>\n",
       "      <td>20.80</td>\n",
       "      <td>0.15</td>\n",
       "    </tr>\n",
       "    <tr>\n",
       "      <td>2</td>\n",
       "      <td>S</td>\n",
       "      <td>2017-10-21 00:00:00</td>\n",
       "      <td>482946</td>\n",
       "      <td>ROS</td>\n",
       "      <td>Desktop</td>\n",
       "      <td>Island Ad 2</td>\n",
       "      <td>20837</td>\n",
       "      <td>2.74</td>\n",
       "      <td>0.13</td>\n",
       "    </tr>\n",
       "    <tr>\n",
       "      <td>3</td>\n",
       "      <td>S</td>\n",
       "      <td>2017-10-21 00:00:00</td>\n",
       "      <td>504560</td>\n",
       "      <td>ROS</td>\n",
       "      <td>Mobile Web</td>\n",
       "      <td>Island Ad 2</td>\n",
       "      <td>13414</td>\n",
       "      <td>3.66</td>\n",
       "      <td>0.27</td>\n",
       "    </tr>\n",
       "    <tr>\n",
       "      <td>4</td>\n",
       "      <td>S</td>\n",
       "      <td>2017-10-21 00:00:00</td>\n",
       "      <td>482944</td>\n",
       "      <td>ROS</td>\n",
       "      <td>Desktop</td>\n",
       "      <td>Island Ad 2</td>\n",
       "      <td>111739</td>\n",
       "      <td>14.15</td>\n",
       "      <td>0.13</td>\n",
       "    </tr>\n",
       "  </tbody>\n",
       "</table>\n",
       "</div>"
      ],
      "text/plain": [
       "  vendor                 date  mapper zone_name    platform  \\\n",
       "0  S      2017-10-21 00:00:00  467649  ROS       Desktop      \n",
       "1  S      2017-10-21 00:00:00  468681  ROS       Desktop      \n",
       "2  S      2017-10-21 00:00:00  482946  ROS       Desktop      \n",
       "3  S      2017-10-21 00:00:00  504560  ROS       Mobile Web   \n",
       "4  S      2017-10-21 00:00:00  482944  ROS       Desktop      \n",
       "\n",
       "                     ad_products  sold_impressions  est_revenue  cpm  \n",
       "0  Super Leaderboard / Billboard  481718           67.75        0.14  \n",
       "1  Super Leaderboard / Billboard  142757           20.80        0.15  \n",
       "2  Island Ad 2                    20837            2.74         0.13  \n",
       "3  Island Ad 2                    13414            3.66         0.27  \n",
       "4  Island Ad 2                    111739           14.15        0.13  "
      ]
     },
     "execution_count": 139,
     "metadata": {},
     "output_type": "execute_result"
    }
   ],
   "source": [
    "cur.execute(\n",
    "    \"\"\"\n",
    "    SELECT \n",
    "        \"S\" as vendor,\n",
    "        s.UPDATED_Date as date,\n",
    "        s.TAG_ID as mapper,\n",
    "        groupings.\"Zone Name\" as zone_name,\n",
    "        groupings.Platform as platform, \n",
    "        groupings.\"Ad Products\" as ad_products, \n",
    "        s.IMPRESSIONS as sold_impressions, \n",
    "        s.EARNINGS as est_revenue, \n",
    "        s.CPM as cpm\n",
    "    FROM vendor_s as s\n",
    "    LEFT JOIN definitions_groupings as groupings\n",
    "        ON s.TAG_ID = groupings.tagID\n",
    "    WHERE UPDATED_DATE BETWEEN '2017-10-01' AND '2017-10-31 59:59:59';\n",
    "    \"\"\"\n",
    ")\n",
    "vendor_s = pd.DataFrame(cur.fetchall(),\n",
    "                     columns=[i[0] for i in cur.description])\n",
    "vendor_s.head()"
   ]
  },
  {
   "cell_type": "code",
   "execution_count": 94,
   "metadata": {},
   "outputs": [
    {
     "data": {
      "text/plain": [
       "132.69000000000014"
      ]
     },
     "execution_count": 94,
     "metadata": {},
     "output_type": "execute_result"
    }
   ],
   "source": [
    "sum(vendor_s.cpm)"
   ]
  },
  {
   "cell_type": "code",
   "execution_count": 101,
   "metadata": {},
   "outputs": [
    {
     "data": {
      "text/plain": [
       "132.69000000000005"
      ]
     },
     "execution_count": 101,
     "metadata": {},
     "output_type": "execute_result"
    }
   ],
   "source": [
    "check = df_excel[\"vendor_s\"].copy()\n",
    "check = check[(check.UPDATED_DATE <= \"2017-10-31\") & (check.UPDATED_DATE >= \"2017-10-01\")].sort_values(\"UPDATED_DATE\")\n",
    "sum(check.CPM)"
   ]
  },
  {
   "cell_type": "markdown",
   "metadata": {},
   "source": [
    "#### Vendor U"
   ]
  },
  {
   "cell_type": "markdown",
   "metadata": {},
   "source": [
    "Checks max and min dates:"
   ]
  },
  {
   "cell_type": "code",
   "execution_count": 102,
   "metadata": {
    "scrolled": true
   },
   "outputs": [
    {
     "data": {
      "text/plain": [
       "[('2017-10-29 00:00:00',)]"
      ]
     },
     "metadata": {},
     "output_type": "display_data"
    },
    {
     "data": {
      "text/plain": [
       "[('2017-01-01 00:00:00',)]"
      ]
     },
     "metadata": {},
     "output_type": "display_data"
    }
   ],
   "source": [
    "cur.execute(\"\"\"SELECT MAX(DATE) FROM vendor_u;\"\"\")\n",
    "display(cur.fetchall())\n",
    "cur.execute(\"\"\"SELECT MIN(DATE) FROM vendor_u;\"\"\")\n",
    "display(cur.fetchall())"
   ]
  },
  {
   "cell_type": "code",
   "execution_count": 150,
   "metadata": {
    "scrolled": true
   },
   "outputs": [
    {
     "data": {
      "text/html": [
       "<div>\n",
       "<style scoped>\n",
       "    .dataframe tbody tr th:only-of-type {\n",
       "        vertical-align: middle;\n",
       "    }\n",
       "\n",
       "    .dataframe tbody tr th {\n",
       "        vertical-align: top;\n",
       "    }\n",
       "\n",
       "    .dataframe thead th {\n",
       "        text-align: right;\n",
       "    }\n",
       "</style>\n",
       "<table border=\"1\" class=\"dataframe\">\n",
       "  <thead>\n",
       "    <tr style=\"text-align: right;\">\n",
       "      <th></th>\n",
       "      <th>vendor</th>\n",
       "      <th>date</th>\n",
       "      <th>mapper</th>\n",
       "      <th>zone_name</th>\n",
       "      <th>platform</th>\n",
       "      <th>ad_products</th>\n",
       "      <th>sold_impressions</th>\n",
       "      <th>est_revenue</th>\n",
       "      <th>cpm</th>\n",
       "    </tr>\n",
       "  </thead>\n",
       "  <tbody>\n",
       "    <tr>\n",
       "      <td>0</td>\n",
       "      <td>U</td>\n",
       "      <td>2017-10-28 00:00:00</td>\n",
       "      <td>Desktop</td>\n",
       "      <td>ROS</td>\n",
       "      <td>Desktop</td>\n",
       "      <td>Full Page Ad/Inread Video</td>\n",
       "      <td>624</td>\n",
       "      <td>8.42</td>\n",
       "      <td>13.50</td>\n",
       "    </tr>\n",
       "    <tr>\n",
       "      <td>1</td>\n",
       "      <td>U</td>\n",
       "      <td>2017-10-04 00:00:00</td>\n",
       "      <td>Desktop</td>\n",
       "      <td>ROS</td>\n",
       "      <td>Desktop</td>\n",
       "      <td>Full Page Ad/Inread Video</td>\n",
       "      <td>9248</td>\n",
       "      <td>26.52</td>\n",
       "      <td>2.87</td>\n",
       "    </tr>\n",
       "    <tr>\n",
       "      <td>2</td>\n",
       "      <td>U</td>\n",
       "      <td>2017-10-07 00:00:00</td>\n",
       "      <td>Desktop</td>\n",
       "      <td>ROS</td>\n",
       "      <td>Desktop</td>\n",
       "      <td>Full Page Ad/Inread Video</td>\n",
       "      <td>348</td>\n",
       "      <td>0.99</td>\n",
       "      <td>2.84</td>\n",
       "    </tr>\n",
       "    <tr>\n",
       "      <td>3</td>\n",
       "      <td>U</td>\n",
       "      <td>2017-10-29 00:00:00</td>\n",
       "      <td>Desktop</td>\n",
       "      <td>ROS</td>\n",
       "      <td>Desktop</td>\n",
       "      <td>Full Page Ad/Inread Video</td>\n",
       "      <td>7487</td>\n",
       "      <td>9.84</td>\n",
       "      <td>1.31</td>\n",
       "    </tr>\n",
       "    <tr>\n",
       "      <td>4</td>\n",
       "      <td>U</td>\n",
       "      <td>2017-10-27 00:00:00</td>\n",
       "      <td>Desktop</td>\n",
       "      <td>ROS</td>\n",
       "      <td>Desktop</td>\n",
       "      <td>Full Page Ad/Inread Video</td>\n",
       "      <td>2832</td>\n",
       "      <td>0.17</td>\n",
       "      <td>0.06</td>\n",
       "    </tr>\n",
       "  </tbody>\n",
       "</table>\n",
       "</div>"
      ],
      "text/plain": [
       "  vendor                 date   mapper zone_name platform  \\\n",
       "0  U      2017-10-28 00:00:00  Desktop  ROS       Desktop   \n",
       "1  U      2017-10-04 00:00:00  Desktop  ROS       Desktop   \n",
       "2  U      2017-10-07 00:00:00  Desktop  ROS       Desktop   \n",
       "3  U      2017-10-29 00:00:00  Desktop  ROS       Desktop   \n",
       "4  U      2017-10-27 00:00:00  Desktop  ROS       Desktop   \n",
       "\n",
       "                 ad_products  sold_impressions  est_revenue   cpm  \n",
       "0  Full Page Ad/Inread Video  624              8.42         13.50  \n",
       "1  Full Page Ad/Inread Video  9248             26.52        2.87   \n",
       "2  Full Page Ad/Inread Video  348              0.99         2.84   \n",
       "3  Full Page Ad/Inread Video  7487             9.84         1.31   \n",
       "4  Full Page Ad/Inread Video  2832             0.17         0.06   "
      ]
     },
     "execution_count": 150,
     "metadata": {},
     "output_type": "execute_result"
    }
   ],
   "source": [
    "cur.execute(\"\"\"\n",
    "    SELECT \n",
    "        \"U\" as vendor,\n",
    "        u.DATE as date,\n",
    "        u.DEVICE_TYPE as mapper,\n",
    "        groupings.\"Zone Name\" as zone_name,\n",
    "        groupings.Platform as platform, \n",
    "        groupings.\"Ad Products\" as ad_products,\n",
    "        u.VIDEO_IMPRESSIONS as sold_impressions,\n",
    "        (CAST(u.VIDEO_IMPRESSIONS as REAL) / map.total_sold_impressions * map.total_est_revenue)*1.00 as est_revenue,\n",
    "        (CAST(u.VIDEO_IMPRESSIONS as REAL) / map.total_sold_impressions * map.total_est_revenue)/CAST(u.VIDEO_IMPRESSIONS as REAL)*1000.00 as cpm\n",
    "    FROM vendor_u as u\n",
    "    LEFT JOIN (SELECT\n",
    "                    DATE as date,\n",
    "                    CAST(sum(VIDEO_IMPRESSIONS) as REAL) as total_sold_impressions,\n",
    "                    CAST(sum(EARNINGS) as REAL) as total_est_revenue\n",
    "                FROM vendor_u\n",
    "                WHERE DATE BETWEEN '2017-10-01' AND '2017-10-31'\n",
    "                GROUP by DATE) as map\n",
    "        USING (DATE)\n",
    "    LEFT JOIN definitions_groupings as groupings\n",
    "        ON lower(u.DEVICE_TYPE) = lower(groupings.tagID)\n",
    "    WHERE\n",
    "        (DATE BETWEEN '2017-10-01' AND '2017-10-31') &\n",
    "        (DEVICE_TYPE NOT LIKE \"%UNKNOWN%\")\n",
    "    \"\"\")\n",
    "\n",
    "vendor_u = pd.DataFrame(cur.fetchall(),\n",
    "                             columns=[i[0] for i in cur.description])\n",
    "vendor_u.head()"
   ]
  },
  {
   "cell_type": "code",
   "execution_count": 151,
   "metadata": {},
   "outputs": [
    {
     "data": {
      "text/plain": [
       "1539.3799999999997"
      ]
     },
     "execution_count": 151,
     "metadata": {},
     "output_type": "execute_result"
    }
   ],
   "source": [
    "sum(vendor_u.est_revenue)"
   ]
  },
  {
   "cell_type": "code",
   "execution_count": 152,
   "metadata": {},
   "outputs": [
    {
     "data": {
      "text/plain": [
       "array([0.])"
      ]
     },
     "execution_count": 152,
     "metadata": {},
     "output_type": "execute_result"
    }
   ],
   "source": [
    "vendor_u[\"check\"] = vendor_u[\"est_revenue\"]/vendor_u[\"sold_impressions\"]*1000 - vendor_u[\"cpm\"]\n",
    "vendor_u.check.unique()"
   ]
  },
  {
   "cell_type": "code",
   "execution_count": 153,
   "metadata": {
    "scrolled": true
   },
   "outputs": [
    {
     "data": {
      "text/plain": [
       "1539.38"
      ]
     },
     "execution_count": 153,
     "metadata": {},
     "output_type": "execute_result"
    }
   ],
   "source": [
    "check = df_excel[\"vendor_u\"].copy()\n",
    "check = check[(check.DATE <= \"2017-10-31\") & (check.DATE >= \"2017-10-01\")].sort_values(\"DATE\")\n",
    "sum(check.EARNINGS)"
   ]
  },
  {
   "cell_type": "markdown",
   "metadata": {},
   "source": [
    "#### Vendor T"
   ]
  },
  {
   "cell_type": "code",
   "execution_count": 132,
   "metadata": {
    "scrolled": true
   },
   "outputs": [
    {
     "data": {
      "text/plain": [
       "[('2017-11-03 00:00:00',)]"
      ]
     },
     "metadata": {},
     "output_type": "display_data"
    },
    {
     "data": {
      "text/plain": [
       "[('2017-10-08 00:00:00',)]"
      ]
     },
     "metadata": {},
     "output_type": "display_data"
    }
   ],
   "source": [
    "cur.execute(\"\"\"SELECT MAX(DAY) FROM vendor_t;\"\"\")\n",
    "display(cur.fetchall())\n",
    "cur.execute(\"\"\"SELECT MIN(DAY) FROM vendor_t;\"\"\")\n",
    "display(cur.fetchall())"
   ]
  },
  {
   "cell_type": "code",
   "execution_count": 140,
   "metadata": {},
   "outputs": [
    {
     "data": {
      "text/html": [
       "<div>\n",
       "<style scoped>\n",
       "    .dataframe tbody tr th:only-of-type {\n",
       "        vertical-align: middle;\n",
       "    }\n",
       "\n",
       "    .dataframe tbody tr th {\n",
       "        vertical-align: top;\n",
       "    }\n",
       "\n",
       "    .dataframe thead th {\n",
       "        text-align: right;\n",
       "    }\n",
       "</style>\n",
       "<table border=\"1\" class=\"dataframe\">\n",
       "  <thead>\n",
       "    <tr style=\"text-align: right;\">\n",
       "      <th></th>\n",
       "      <th>vendor</th>\n",
       "      <th>date</th>\n",
       "      <th>mapper</th>\n",
       "      <th>zone_name</th>\n",
       "      <th>platform</th>\n",
       "      <th>ad_products</th>\n",
       "      <th>sold_impressions</th>\n",
       "      <th>est_revenue</th>\n",
       "      <th>cpm</th>\n",
       "    </tr>\n",
       "  </thead>\n",
       "  <tbody>\n",
       "    <tr>\n",
       "      <td>0</td>\n",
       "      <td>T</td>\n",
       "      <td>2017-10-08 00:00:00</td>\n",
       "      <td>48540</td>\n",
       "      <td>ROS</td>\n",
       "      <td>Mobile Web</td>\n",
       "      <td>Full Page Ad/Inread Video</td>\n",
       "      <td>904</td>\n",
       "      <td>40.38</td>\n",
       "      <td>44.67</td>\n",
       "    </tr>\n",
       "    <tr>\n",
       "      <td>1</td>\n",
       "      <td>T</td>\n",
       "      <td>2017-10-08 00:00:00</td>\n",
       "      <td>48540</td>\n",
       "      <td>ROS</td>\n",
       "      <td>Mobile Web</td>\n",
       "      <td>Full Page Ad/Inread Video</td>\n",
       "      <td>4382</td>\n",
       "      <td>32.25</td>\n",
       "      <td>7.36</td>\n",
       "    </tr>\n",
       "    <tr>\n",
       "      <td>2</td>\n",
       "      <td>T</td>\n",
       "      <td>2017-10-08 00:00:00</td>\n",
       "      <td>48540</td>\n",
       "      <td>ROS</td>\n",
       "      <td>Mobile Web</td>\n",
       "      <td>Full Page Ad/Inread Video</td>\n",
       "      <td>868</td>\n",
       "      <td>39.27</td>\n",
       "      <td>45.24</td>\n",
       "    </tr>\n",
       "    <tr>\n",
       "      <td>3</td>\n",
       "      <td>T</td>\n",
       "      <td>2017-10-08 00:00:00</td>\n",
       "      <td>48540</td>\n",
       "      <td>ROS</td>\n",
       "      <td>Mobile Web</td>\n",
       "      <td>Full Page Ad/Inread Video</td>\n",
       "      <td>3738</td>\n",
       "      <td>9.26</td>\n",
       "      <td>2.48</td>\n",
       "    </tr>\n",
       "    <tr>\n",
       "      <td>4</td>\n",
       "      <td>T</td>\n",
       "      <td>2017-10-08 00:00:00</td>\n",
       "      <td>48540</td>\n",
       "      <td>ROS</td>\n",
       "      <td>Mobile Web</td>\n",
       "      <td>Full Page Ad/Inread Video</td>\n",
       "      <td>3270</td>\n",
       "      <td>48.09</td>\n",
       "      <td>14.71</td>\n",
       "    </tr>\n",
       "  </tbody>\n",
       "</table>\n",
       "</div>"
      ],
      "text/plain": [
       "  vendor                 date mapper zone_name    platform  \\\n",
       "0  T      2017-10-08 00:00:00  48540  ROS       Mobile Web   \n",
       "1  T      2017-10-08 00:00:00  48540  ROS       Mobile Web   \n",
       "2  T      2017-10-08 00:00:00  48540  ROS       Mobile Web   \n",
       "3  T      2017-10-08 00:00:00  48540  ROS       Mobile Web   \n",
       "4  T      2017-10-08 00:00:00  48540  ROS       Mobile Web   \n",
       "\n",
       "                 ad_products  sold_impressions  est_revenue   cpm  \n",
       "0  Full Page Ad/Inread Video  904              40.38        44.67  \n",
       "1  Full Page Ad/Inread Video  4382             32.25        7.36   \n",
       "2  Full Page Ad/Inread Video  868              39.27        45.24  \n",
       "3  Full Page Ad/Inread Video  3738             9.26         2.48   \n",
       "4  Full Page Ad/Inread Video  3270             48.09        14.71  "
      ]
     },
     "execution_count": 140,
     "metadata": {},
     "output_type": "execute_result"
    }
   ],
   "source": [
    "cur.execute(\n",
    "    \"\"\"\n",
    "    SELECT \n",
    "        \"T\" as vendor,\n",
    "        t.DAY as date,\n",
    "        SUBSTR(t.PLACEMENT,1,5) as mapper,\n",
    "        groupings.\"Zone Name\" as zone_name,\n",
    "        groupings.Platform as platform, \n",
    "        groupings.\"Ad Products\" as ad_products,\n",
    "        t.PUBLISHER_BILLABLE_VOLUME as sold_impressions, \n",
    "        CAST(RTRIM(t.TEADS_BILLING_USD, \" USD\") as REAL) as est_revenue,\n",
    "        CAST(RTRIM(t.TEADS_BILLING_USD, \" USD\") as REAL)/CAST(t.PUBLISHER_BILLABLE_VOLUME as REAL)*1000 as cpm\n",
    "    FROM vendor_t as t\n",
    "    LEFT JOIN definitions_groupings as groupings\n",
    "        ON SUBSTR(t.PLACEMENT,1,5) = SUBSTR(groupings.tagID,1,5)\n",
    "    WHERE DAY BETWEEN '2017-10-01' AND '2017-10-31 59:59:59';\n",
    "    \"\"\"\n",
    ")\n",
    "vendor_t = pd.DataFrame(cur.fetchall(),\n",
    "                     columns=[i[0] for i in cur.description])\n",
    "vendor_t.head()"
   ]
  },
  {
   "cell_type": "code",
   "execution_count": 141,
   "metadata": {
    "scrolled": true
   },
   "outputs": [
    {
     "data": {
      "text/plain": [
       "18604.690000000006"
      ]
     },
     "execution_count": 141,
     "metadata": {},
     "output_type": "execute_result"
    }
   ],
   "source": [
    "sum(vendor_t.est_revenue)"
   ]
  },
  {
   "cell_type": "code",
   "execution_count": 149,
   "metadata": {},
   "outputs": [
    {
     "data": {
      "text/plain": [
       "array([0.])"
      ]
     },
     "execution_count": 149,
     "metadata": {},
     "output_type": "execute_result"
    }
   ],
   "source": [
    "vendor_t[\"check\"] = vendor_t[\"est_revenue\"]/vendor_t[\"sold_impressions\"]*1000 - vendor_t[\"cpm\"]\n",
    "vendor_t.check.unique()"
   ]
  },
  {
   "cell_type": "code",
   "execution_count": 148,
   "metadata": {},
   "outputs": [
    {
     "data": {
      "text/plain": [
       "18604.689999999988"
      ]
     },
     "execution_count": 148,
     "metadata": {},
     "output_type": "execute_result"
    }
   ],
   "source": [
    "check = df_excel[\"vendor_t\"].copy()\n",
    "check = check[(check.DAY <= \"2017-10-31\") & (check.DAY >= \"2017-10-01\")].sort_values(\"DAY\")\n",
    "check[\"TEADS_BILLING_USD\"] = check.TEADS_BILLING_USD.map(lambda x: float(x.strip(\"USD\")))\n",
    "sum(check.TEADS_BILLING_USD)"
   ]
  },
  {
   "cell_type": "markdown",
   "metadata": {},
   "source": [
    "#### Total October 2017 CPM "
   ]
  },
  {
   "cell_type": "code",
   "execution_count": 208,
   "metadata": {},
   "outputs": [
    {
     "data": {
      "text/html": [
       "<div>\n",
       "<style scoped>\n",
       "    .dataframe tbody tr th:only-of-type {\n",
       "        vertical-align: middle;\n",
       "    }\n",
       "\n",
       "    .dataframe tbody tr th {\n",
       "        vertical-align: top;\n",
       "    }\n",
       "\n",
       "    .dataframe thead th {\n",
       "        text-align: right;\n",
       "    }\n",
       "</style>\n",
       "<table border=\"1\" class=\"dataframe\">\n",
       "  <thead>\n",
       "    <tr style=\"text-align: right;\">\n",
       "      <th></th>\n",
       "      <th>vendor</th>\n",
       "      <th>date</th>\n",
       "      <th>mapper</th>\n",
       "      <th>zone_name</th>\n",
       "      <th>platform</th>\n",
       "      <th>ad_products</th>\n",
       "      <th>sold_impressions</th>\n",
       "      <th>est_revenue</th>\n",
       "      <th>cpm</th>\n",
       "    </tr>\n",
       "  </thead>\n",
       "  <tbody>\n",
       "    <tr>\n",
       "      <td>0</td>\n",
       "      <td>S</td>\n",
       "      <td>2017-10-12</td>\n",
       "      <td>463809</td>\n",
       "      <td>homepage</td>\n",
       "      <td>Desktop</td>\n",
       "      <td>Island Ad 1</td>\n",
       "      <td>18579</td>\n",
       "      <td>2.04</td>\n",
       "      <td>0.11</td>\n",
       "    </tr>\n",
       "    <tr>\n",
       "      <td>1</td>\n",
       "      <td>S</td>\n",
       "      <td>2017-10-12</td>\n",
       "      <td>463812</td>\n",
       "      <td>ROS</td>\n",
       "      <td>Mobile Web</td>\n",
       "      <td>Island Ad 1</td>\n",
       "      <td>11867</td>\n",
       "      <td>3.43</td>\n",
       "      <td>0.29</td>\n",
       "    </tr>\n",
       "    <tr>\n",
       "      <td>2</td>\n",
       "      <td>S</td>\n",
       "      <td>2017-10-12</td>\n",
       "      <td>463814</td>\n",
       "      <td>homepage</td>\n",
       "      <td>Mobile Web</td>\n",
       "      <td>Island Ad 1</td>\n",
       "      <td>187545</td>\n",
       "      <td>44.68</td>\n",
       "      <td>0.24</td>\n",
       "    </tr>\n",
       "    <tr>\n",
       "      <td>3</td>\n",
       "      <td>S</td>\n",
       "      <td>2017-10-12</td>\n",
       "      <td>464635</td>\n",
       "      <td>ROS</td>\n",
       "      <td>Desktop</td>\n",
       "      <td>Island Ad 1</td>\n",
       "      <td>152476</td>\n",
       "      <td>41.43</td>\n",
       "      <td>0.27</td>\n",
       "    </tr>\n",
       "    <tr>\n",
       "      <td>4</td>\n",
       "      <td>S</td>\n",
       "      <td>2017-10-12</td>\n",
       "      <td>467644</td>\n",
       "      <td>ROS</td>\n",
       "      <td>Desktop</td>\n",
       "      <td>Island Ad 1</td>\n",
       "      <td>327473</td>\n",
       "      <td>9.95</td>\n",
       "      <td>0.03</td>\n",
       "    </tr>\n",
       "  </tbody>\n",
       "</table>\n",
       "</div>"
      ],
      "text/plain": [
       "  vendor        date  mapper zone_name    platform  ad_products  \\\n",
       "0  S      2017-10-12  463809  homepage  Desktop     Island Ad 1   \n",
       "1  S      2017-10-12  463812  ROS       Mobile Web  Island Ad 1   \n",
       "2  S      2017-10-12  463814  homepage  Mobile Web  Island Ad 1   \n",
       "3  S      2017-10-12  464635  ROS       Desktop     Island Ad 1   \n",
       "4  S      2017-10-12  467644  ROS       Desktop     Island Ad 1   \n",
       "\n",
       "   sold_impressions  est_revenue  cpm  \n",
       "0  18579            2.04         0.11  \n",
       "1  11867            3.43         0.29  \n",
       "2  187545           44.68        0.24  \n",
       "3  152476           41.43        0.27  \n",
       "4  327473           9.95         0.03  "
      ]
     },
     "execution_count": 208,
     "metadata": {},
     "output_type": "execute_result"
    }
   ],
   "source": [
    "cur.execute(\"\"\"DROP TABLE IF EXISTS oct_table;\"\"\")\n",
    "\n",
    "cur.execute(\"\"\"\n",
    "    CREATE TABLE oct_table AS\n",
    "        SELECT \n",
    "            \"S\" as vendor,\n",
    "            STRFTIME(\"%Y-%m-%d\", s.UPDATED_DATE) as date,\n",
    "            s.TAG_ID as mapper,\n",
    "            groupings.\"Zone Name\" as zone_name,\n",
    "            groupings.Platform as platform, \n",
    "            groupings.\"Ad Products\" as ad_products, \n",
    "            s.IMPRESSIONS as sold_impressions, \n",
    "            s.EARNINGS as est_revenue, \n",
    "            s.CPM as cpm\n",
    "        FROM vendor_s as s\n",
    "        LEFT JOIN definitions_groupings as groupings\n",
    "            ON s.TAG_ID = groupings.tagID\n",
    "        WHERE UPDATED_DATE BETWEEN '2017-10-01' AND '2017-10-31 59:59:59'\n",
    "        UNION\n",
    "            SELECT \n",
    "                \"U\" as vendor,\n",
    "                STRFTIME(\"%Y-%m-%d\", u.DATE) as date,\n",
    "                u.DEVICE_TYPE as mapper,\n",
    "                groupings.\"Zone Name\" as zone_name,\n",
    "                groupings.Platform as platform, \n",
    "                groupings.\"Ad Products\" as ad_products,\n",
    "                u.VIDEO_IMPRESSIONS as sold_impressions,\n",
    "                (CAST(u.VIDEO_IMPRESSIONS as REAL) / map.total_sold_impressions * map.total_est_revenue)*1.00 as est_revenue,\n",
    "                (CAST(u.VIDEO_IMPRESSIONS as REAL) / map.total_sold_impressions * map.total_est_revenue)/CAST(u.VIDEO_IMPRESSIONS as REAL)*1000.00 as cpm\n",
    "            FROM vendor_u as u\n",
    "            LEFT JOIN (SELECT\n",
    "                            DATE as date,\n",
    "                            CAST(sum(VIDEO_IMPRESSIONS) as REAL) as total_sold_impressions,\n",
    "                            CAST(sum(EARNINGS) as REAL) as total_est_revenue\n",
    "                        FROM vendor_u\n",
    "                        WHERE DATE BETWEEN '2017-10-01' AND '2017-10-31'\n",
    "                        GROUP by DATE) as map\n",
    "                USING (DATE)\n",
    "            LEFT JOIN definitions_groupings as groupings\n",
    "                ON lower(u.DEVICE_TYPE) = lower(groupings.tagID)\n",
    "            WHERE\n",
    "                (DATE BETWEEN '2017-10-01' AND '2017-10-31') &\n",
    "                (DEVICE_TYPE NOT LIKE \"%UNKNOWN%\")\n",
    "        UNION\n",
    "            SELECT \n",
    "                \"T\" as vendor,\n",
    "                STRFTIME(\"%Y-%m-%d\", t.DAY) as date,\n",
    "                SUBSTR(t.PLACEMENT,1,5) as mapper,\n",
    "                groupings.\"Zone Name\" as zone_name,\n",
    "                groupings.Platform as platform, \n",
    "                groupings.\"Ad Products\" as ad_products,\n",
    "                t.PUBLISHER_BILLABLE_VOLUME as sold_impressions, \n",
    "                CAST(RTRIM(t.TEADS_BILLING_USD, \" USD\") as REAL) as est_revenue,\n",
    "                CAST(RTRIM(t.TEADS_BILLING_USD, \" USD\") as REAL)/CAST(t.PUBLISHER_BILLABLE_VOLUME as REAL)*1000 as cpm\n",
    "            FROM vendor_t as t\n",
    "            LEFT JOIN definitions_groupings as groupings\n",
    "                ON SUBSTR(t.PLACEMENT,1,5) = SUBSTR(groupings.tagID,1,5)\n",
    "            WHERE DAY BETWEEN '2017-10-01' AND '2017-10-31 59:59:59';            \n",
    "    \"\"\")\n",
    "\n",
    "cur.execute(\n",
    "    \"\"\"SELECT * FROM oct_table;\"\"\"\n",
    ")\n",
    "\n",
    "oct_cpm = pd.DataFrame(cur.fetchall(), columns=[i[0] for i in cur.description])\n",
    "oct_cpm.head()"
   ]
  },
  {
   "cell_type": "code",
   "execution_count": 214,
   "metadata": {},
   "outputs": [
    {
     "data": {
      "text/plain": [
       "[('T', 8897.824017168865),\n",
       " ('U', 254.75751794224465),\n",
       " ('S', 132.69000000000008)]"
      ]
     },
     "metadata": {},
     "output_type": "display_data"
    },
    {
     "data": {
      "text/plain": [
       "[(9285.271535111102,)]"
      ]
     },
     "metadata": {},
     "output_type": "display_data"
    }
   ],
   "source": [
    "cur.execute(\n",
    "    \"\"\"\n",
    "    SELECT vendor, sum(cpm) \n",
    "    FROM oct_table \n",
    "    GROUP BY vendor\n",
    "    ORDER BY sum(cpm) DESC;\"\"\"\n",
    ")\n",
    "display(cur.fetchall())\n",
    "cur.execute(\n",
    "    \"\"\"\n",
    "    SELECT sum(cpm) \n",
    "    FROM oct_table;\"\"\"\n",
    ")\n",
    "\n",
    "display(cur.fetchall())"
   ]
  },
  {
   "cell_type": "code",
   "execution_count": 215,
   "metadata": {},
   "outputs": [
    {
     "data": {
      "text/html": [
       "<div>\n",
       "<style scoped>\n",
       "    .dataframe tbody tr th:only-of-type {\n",
       "        vertical-align: middle;\n",
       "    }\n",
       "\n",
       "    .dataframe tbody tr th {\n",
       "        vertical-align: top;\n",
       "    }\n",
       "\n",
       "    .dataframe thead th {\n",
       "        text-align: right;\n",
       "    }\n",
       "</style>\n",
       "<table border=\"1\" class=\"dataframe\">\n",
       "  <thead>\n",
       "    <tr style=\"text-align: right;\">\n",
       "      <th></th>\n",
       "      <th>type</th>\n",
       "      <th>name</th>\n",
       "      <th>tbl_name</th>\n",
       "      <th>rootpage</th>\n",
       "      <th>sql</th>\n",
       "    </tr>\n",
       "  </thead>\n",
       "  <tbody>\n",
       "    <tr>\n",
       "      <td>0</td>\n",
       "      <td>table</td>\n",
       "      <td>definitions_fields</td>\n",
       "      <td>definitions_fields</td>\n",
       "      <td>42</td>\n",
       "      <td>CREATE TABLE \"definitions_fields\" (\\n\"Unnamed: 0\" TEXT,\\n  \"Standardized field names\" TEXT,\\n  \"Unnamed: 2\" TEXT,\\n  \"Unnamed: 3\" TEXT,\\n  \"Unnamed: 4\" TEXT,\\n  \"Unnamed: 5\" TEXT\\n)</td>\n",
       "    </tr>\n",
       "    <tr>\n",
       "      <td>1</td>\n",
       "      <td>table</td>\n",
       "      <td>definitions_groupings</td>\n",
       "      <td>definitions_groupings</td>\n",
       "      <td>41</td>\n",
       "      <td>CREATE TABLE \"definitions_groupings\" (\\n\"Vendor \" TEXT,\\n  \"tagID\" TEXT,\\n  \"Zone Name\" TEXT,\\n  \"Platform\" TEXT,\\n  \"Ad Products\" TEXT\\n)</td>\n",
       "    </tr>\n",
       "    <tr>\n",
       "      <td>2</td>\n",
       "      <td>table</td>\n",
       "      <td>oct_table</td>\n",
       "      <td>oct_table</td>\n",
       "      <td>44</td>\n",
       "      <td>CREATE TABLE oct_table(\\n  vendor,\\n  date,\\n  mapper INT,\\n  zone_name TEXT,\\n  platform TEXT,\\n  ad_products TEXT,\\n  sold_impressions INT,\\n  est_revenue REAL,\\n  cpm REAL\\n)</td>\n",
       "    </tr>\n",
       "    <tr>\n",
       "      <td>3</td>\n",
       "      <td>table</td>\n",
       "      <td>question</td>\n",
       "      <td>question</td>\n",
       "      <td>43</td>\n",
       "      <td>CREATE TABLE \"question\" (\\n\"Time Limit: 3 hours\" TEXT,\\n  \"Unnamed: 1\" TEXT\\n)</td>\n",
       "    </tr>\n",
       "    <tr>\n",
       "      <td>4</td>\n",
       "      <td>table</td>\n",
       "      <td>vendor_b</td>\n",
       "      <td>vendor_b</td>\n",
       "      <td>24</td>\n",
       "      <td>CREATE TABLE \"vendor_b\" (\\n\"DATE_INTERVAL\" TEXT,\\n  \"TAGS\" TEXT,\\n  \"SIZE\" TEXT,\\n  \"RECEIVED_IMPS\" INTEGER,\\n  \"IMPS\" INTEGER,\\n  \"REVENUE\" REAL,\\n  \"CLICKS\" INTEGER\\n)</td>\n",
       "    </tr>\n",
       "    <tr>\n",
       "      <td>5</td>\n",
       "      <td>table</td>\n",
       "      <td>vendor_s</td>\n",
       "      <td>vendor_s</td>\n",
       "      <td>2</td>\n",
       "      <td>CREATE TABLE \"vendor_s\" (\\n\"TRAFFIC\" TEXT,\\n  \"TAG_ID\" INTEGER,\\n  \"TYPE\" TEXT,\\n  \"SITE\" TEXT,\\n  \"REQUESTS\" INTEGER,\\n  \"IMPRESSIONS\" INTEGER,\\n  \"FILL_RATE\" REAL,\\n  \"CPM\" REAL,\\n  \"EARNINGS\" REAL,\\n  \"UPDATED_DATE\" TIMESTAMP\\n)</td>\n",
       "    </tr>\n",
       "    <tr>\n",
       "      <td>6</td>\n",
       "      <td>table</td>\n",
       "      <td>vendor_t</td>\n",
       "      <td>vendor_t</td>\n",
       "      <td>25</td>\n",
       "      <td>CREATE TABLE \"vendor_t\" (\\n\"WEBSITE\" TEXT,\\n  \"PLACEMENT\" TEXT,\\n  \"DAY\" TIMESTAMP,\\n  \"PUBLISHER_BILLABLE_VOLUME\" INTEGER,\\n  \"CLICK\" INTEGER,\\n  \"TEADS_BILLING_USD\" TEXT\\n)</td>\n",
       "    </tr>\n",
       "    <tr>\n",
       "      <td>7</td>\n",
       "      <td>table</td>\n",
       "      <td>vendor_u</td>\n",
       "      <td>vendor_u</td>\n",
       "      <td>11</td>\n",
       "      <td>CREATE TABLE \"vendor_u\" (\\n\"PLATFORM\" TEXT,\\n  \"DATE\" TIMESTAMP,\\n  \"DEVICE_TYPE\" TEXT,\\n  \"VIDEO_IMPRESSIONS\" INTEGER,\\n  \"EARNINGS\" REAL,\\n  \"CLICKS\" INTEGER\\n)</td>\n",
       "    </tr>\n",
       "  </tbody>\n",
       "</table>\n",
       "</div>"
      ],
      "text/plain": [
       "    type                   name               tbl_name  rootpage  \\\n",
       "0  table  definitions_fields     definitions_fields     42         \n",
       "1  table  definitions_groupings  definitions_groupings  41         \n",
       "2  table  oct_table              oct_table              44         \n",
       "3  table  question               question               43         \n",
       "4  table  vendor_b               vendor_b               24         \n",
       "5  table  vendor_s               vendor_s               2          \n",
       "6  table  vendor_t               vendor_t               25         \n",
       "7  table  vendor_u               vendor_u               11         \n",
       "\n",
       "                                                                                                                                                                                                                                       sql  \n",
       "0  CREATE TABLE \"definitions_fields\" (\\n\"Unnamed: 0\" TEXT,\\n  \"Standardized field names\" TEXT,\\n  \"Unnamed: 2\" TEXT,\\n  \"Unnamed: 3\" TEXT,\\n  \"Unnamed: 4\" TEXT,\\n  \"Unnamed: 5\" TEXT\\n)                                                    \n",
       "1  CREATE TABLE \"definitions_groupings\" (\\n\"Vendor \" TEXT,\\n  \"tagID\" TEXT,\\n  \"Zone Name\" TEXT,\\n  \"Platform\" TEXT,\\n  \"Ad Products\" TEXT\\n)                                                                                               \n",
       "2  CREATE TABLE oct_table(\\n  vendor,\\n  date,\\n  mapper INT,\\n  zone_name TEXT,\\n  platform TEXT,\\n  ad_products TEXT,\\n  sold_impressions INT,\\n  est_revenue REAL,\\n  cpm REAL\\n)                                                        \n",
       "3  CREATE TABLE \"question\" (\\n\"Time Limit: 3 hours\" TEXT,\\n  \"Unnamed: 1\" TEXT\\n)                                                                                                                                                           \n",
       "4  CREATE TABLE \"vendor_b\" (\\n\"DATE_INTERVAL\" TEXT,\\n  \"TAGS\" TEXT,\\n  \"SIZE\" TEXT,\\n  \"RECEIVED_IMPS\" INTEGER,\\n  \"IMPS\" INTEGER,\\n  \"REVENUE\" REAL,\\n  \"CLICKS\" INTEGER\\n)                                                                \n",
       "5  CREATE TABLE \"vendor_s\" (\\n\"TRAFFIC\" TEXT,\\n  \"TAG_ID\" INTEGER,\\n  \"TYPE\" TEXT,\\n  \"SITE\" TEXT,\\n  \"REQUESTS\" INTEGER,\\n  \"IMPRESSIONS\" INTEGER,\\n  \"FILL_RATE\" REAL,\\n  \"CPM\" REAL,\\n  \"EARNINGS\" REAL,\\n  \"UPDATED_DATE\" TIMESTAMP\\n)  \n",
       "6  CREATE TABLE \"vendor_t\" (\\n\"WEBSITE\" TEXT,\\n  \"PLACEMENT\" TEXT,\\n  \"DAY\" TIMESTAMP,\\n  \"PUBLISHER_BILLABLE_VOLUME\" INTEGER,\\n  \"CLICK\" INTEGER,\\n  \"TEADS_BILLING_USD\" TEXT\\n)                                                           \n",
       "7  CREATE TABLE \"vendor_u\" (\\n\"PLATFORM\" TEXT,\\n  \"DATE\" TIMESTAMP,\\n  \"DEVICE_TYPE\" TEXT,\\n  \"VIDEO_IMPRESSIONS\" INTEGER,\\n  \"EARNINGS\" REAL,\\n  \"CLICKS\" INTEGER\\n)                                                                       "
      ]
     },
     "execution_count": 215,
     "metadata": {},
     "output_type": "execute_result"
    }
   ],
   "source": [
    "cur.execute(\n",
    "    \"\"\"\n",
    "    SELECT type, name, tbl_name, rootpage, sql \n",
    "    fROM sqlite_master \n",
    "    ORDER by type, tbl_name;\n",
    "    \"\"\"\n",
    ")\n",
    "db = pd.DataFrame(cur.fetchall(), columns=[i[0] for i in cur.description])\n",
    "db"
   ]
  },
  {
   "cell_type": "code",
   "execution_count": 216,
   "metadata": {},
   "outputs": [
    {
     "data": {
      "image/png": "[encoded data removed]",
      "text/plain": [
       "<Figure size 576x504 with 1 Axes>"
      ]
     },
     "metadata": {},
     "output_type": "display_data"
    }
   ],
   "source": [
    "temp = oct_cpm.groupby([\"vendor\"]).sum().reset_index()[[\"vendor\", \"cpm\"]].sort_values(\"cpm\", ascending=False)\n",
    "plt.figure(figsize=(8, 7))\n",
    "graph = plt.bar(temp.vendor, temp.cpm, color=[\"C0\", \"C2\", \"C4\"])\n",
    "plt.title(\"October 2017 CPM: ${}\".format(round(sum(temp.cpm), 2)), fontsize=20)\n",
    "plt.xlabel(\"Vendor\")\n",
    "plt.yticks(range(0, 12000, 2000))\n",
    "plt.ylabel(\"CPM ($)\")\n",
    "for bar, x in zip(graph, temp.cpm.values):\n",
    "    plt.text(bar.get_x() + bar.get_width() / 2.0,\n",
    "             bar.get_height() + 200,\n",
    "             \"${} ({}%)\".format(round(x, 2),\n",
    "                               round(x / sum(temp.cpm) * 100, 2)),\n",
    "             fontsize=15,\n",
    "             ha=\"center\",\n",
    "             va=\"bottom\")\n",
    "plt.show()"
   ]
  },
  {
   "cell_type": "markdown",
   "metadata": {},
   "source": [
    "#### Vendor U Analysis"
   ]
  },
  {
   "cell_type": "code",
   "execution_count": 202,
   "metadata": {},
   "outputs": [
    {
     "data": {
      "text/html": [
       "<div>\n",
       "<style scoped>\n",
       "    .dataframe tbody tr th:only-of-type {\n",
       "        vertical-align: middle;\n",
       "    }\n",
       "\n",
       "    .dataframe tbody tr th {\n",
       "        vertical-align: top;\n",
       "    }\n",
       "\n",
       "    .dataframe thead th {\n",
       "        text-align: right;\n",
       "    }\n",
       "</style>\n",
       "<table border=\"1\" class=\"dataframe\">\n",
       "  <thead>\n",
       "    <tr style=\"text-align: right;\">\n",
       "      <th></th>\n",
       "      <th>date</th>\n",
       "      <th>month</th>\n",
       "      <th>mapper</th>\n",
       "      <th>zone_name</th>\n",
       "      <th>platform</th>\n",
       "      <th>ad_products</th>\n",
       "      <th>sold_impressions</th>\n",
       "      <th>clicks</th>\n",
       "      <th>est_revenue</th>\n",
       "      <th>cpm</th>\n",
       "    </tr>\n",
       "  </thead>\n",
       "  <tbody>\n",
       "    <tr>\n",
       "      <td>0</td>\n",
       "      <td>2017-04-14</td>\n",
       "      <td>04</td>\n",
       "      <td>Desktop</td>\n",
       "      <td>ROS</td>\n",
       "      <td>Desktop</td>\n",
       "      <td>Full Page Ad/Inread Video</td>\n",
       "      <td>4265</td>\n",
       "      <td>1073</td>\n",
       "      <td>2.21</td>\n",
       "      <td>0.52</td>\n",
       "    </tr>\n",
       "    <tr>\n",
       "      <td>1</td>\n",
       "      <td>2017-02-13</td>\n",
       "      <td>02</td>\n",
       "      <td>Desktop</td>\n",
       "      <td>ROS</td>\n",
       "      <td>Desktop</td>\n",
       "      <td>Full Page Ad/Inread Video</td>\n",
       "      <td>8585</td>\n",
       "      <td>1286</td>\n",
       "      <td>56.77</td>\n",
       "      <td>6.61</td>\n",
       "    </tr>\n",
       "    <tr>\n",
       "      <td>2</td>\n",
       "      <td>2017-02-25</td>\n",
       "      <td>02</td>\n",
       "      <td>Desktop</td>\n",
       "      <td>ROS</td>\n",
       "      <td>Desktop</td>\n",
       "      <td>Full Page Ad/Inread Video</td>\n",
       "      <td>2806</td>\n",
       "      <td>282</td>\n",
       "      <td>8.35</td>\n",
       "      <td>2.98</td>\n",
       "    </tr>\n",
       "    <tr>\n",
       "      <td>3</td>\n",
       "      <td>2017-01-02</td>\n",
       "      <td>01</td>\n",
       "      <td>Desktop</td>\n",
       "      <td>ROS</td>\n",
       "      <td>Desktop</td>\n",
       "      <td>Full Page Ad/Inread Video</td>\n",
       "      <td>1801</td>\n",
       "      <td>371</td>\n",
       "      <td>7.45</td>\n",
       "      <td>4.13</td>\n",
       "    </tr>\n",
       "    <tr>\n",
       "      <td>4</td>\n",
       "      <td>2017-03-19</td>\n",
       "      <td>03</td>\n",
       "      <td>Desktop</td>\n",
       "      <td>ROS</td>\n",
       "      <td>Desktop</td>\n",
       "      <td>Full Page Ad/Inread Video</td>\n",
       "      <td>6241</td>\n",
       "      <td>51</td>\n",
       "      <td>8.08</td>\n",
       "      <td>1.29</td>\n",
       "    </tr>\n",
       "  </tbody>\n",
       "</table>\n",
       "</div>"
      ],
      "text/plain": [
       "         date month   mapper zone_name platform                ad_products  \\\n",
       "0  2017-04-14  04    Desktop  ROS       Desktop  Full Page Ad/Inread Video   \n",
       "1  2017-02-13  02    Desktop  ROS       Desktop  Full Page Ad/Inread Video   \n",
       "2  2017-02-25  02    Desktop  ROS       Desktop  Full Page Ad/Inread Video   \n",
       "3  2017-01-02  01    Desktop  ROS       Desktop  Full Page Ad/Inread Video   \n",
       "4  2017-03-19  03    Desktop  ROS       Desktop  Full Page Ad/Inread Video   \n",
       "\n",
       "   sold_impressions  clicks  est_revenue  cpm  \n",
       "0  4265              1073   2.21         0.52  \n",
       "1  8585              1286   56.77        6.61  \n",
       "2  2806              282    8.35         2.98  \n",
       "3  1801              371    7.45         4.13  \n",
       "4  6241              51     8.08         1.29  "
      ]
     },
     "execution_count": 202,
     "metadata": {},
     "output_type": "execute_result"
    }
   ],
   "source": [
    "cur.execute(\"\"\"\n",
    "    SELECT \n",
    "        STRFTIME(\"%Y-%m-%d\", DATE) date,\n",
    "        STRFTIME(\"%m\", DATE) as month,\n",
    "        u.DEVICE_TYPE as mapper,\n",
    "        groupings.\"Zone Name\" as zone_name,\n",
    "        groupings.Platform as platform, \n",
    "        groupings.\"Ad Products\" as ad_products,\n",
    "        u.VIDEO_IMPRESSIONS as sold_impressions,\n",
    "        u.CLICKS as clicks,\n",
    "        (CAST(u.VIDEO_IMPRESSIONS as REAL) / map.total_sold_impressions * map.total_est_revenue)*1.00 as est_revenue,\n",
    "        (CAST(u.VIDEO_IMPRESSIONS as REAL) / map.total_sold_impressions * map.total_est_revenue)/CAST(u.VIDEO_IMPRESSIONS as REAL)*1000.00 as cpm\n",
    "    FROM vendor_u as u\n",
    "    LEFT JOIN (SELECT\n",
    "                    DATE as date,\n",
    "                    CAST(sum(VIDEO_IMPRESSIONS) as REAL) as total_sold_impressions,\n",
    "                    CAST(sum(EARNINGS) as REAL) as total_est_revenue\n",
    "                FROM vendor_u\n",
    "                GROUP by DATE) as map\n",
    "        USING (DATE)\n",
    "    LEFT JOIN definitions_groupings as groupings\n",
    "        ON lower(u.DEVICE_TYPE) = lower(groupings.tagID)\n",
    "    WHERE DEVICE_TYPE NOT LIKE \"%UNKNOWN%\"\n",
    "    \"\"\")\n",
    "\n",
    "df_u = pd.DataFrame(cur.fetchall(),\n",
    "                             columns=[i[0] for i in cur.description])\n",
    "df_u.head()"
   ]
  },
  {
   "cell_type": "code",
   "execution_count": null,
   "metadata": {},
   "outputs": [],
   "source": []
  }
 ],
 "metadata": {
  "kernelspec": {
   "display_name": "Python [conda env:learn-env] *",
   "language": "python",
   "name": "conda-env-learn-env-py"
  },
  "language_info": {
   "codemirror_mode": {
    "name": "ipython",
    "version": 3
   },
   "file_extension": ".py",
   "mimetype": "text/x-python",
   "name": "python",
   "nbconvert_exporter": "python",
   "pygments_lexer": "ipython3",
   "version": "3.6.9"
  },
  "toc": {
   "base_numbering": 1,
   "nav_menu": {},
   "number_sections": false,
   "sideBar": true,
   "skip_h1_title": false,
   "title_cell": "Table of Contents",
   "title_sidebar": "Contents",
   "toc_cell": false,
   "toc_position": {
    "height": "calc(100% - 180px)",
    "left": "10px",
    "top": "150px",
    "width": "336px"
   },
   "toc_section_display": true,
   "toc_window_display": true
  },
  "varInspector": {
   "cols": {
    "lenName": 16,
    "lenType": 16,
    "lenVar": 40
   },
   "kernels_config": {
    "python": {
     "delete_cmd_postfix": "",
     "delete_cmd_prefix": "del ",
     "library": "var_list.py",
     "varRefreshCmd": "print(var_dic_list())"
    },
    "r": {
     "delete_cmd_postfix": ") ",
     "delete_cmd_prefix": "rm(",
     "library": "var_list.r",
     "varRefreshCmd": "cat(var_dic_list()) "
    }
   },
   "position": {
    "height": "344px",
    "left": "1310px",
    "right": "20px",
    "top": "119px",
    "width": "350px"
   },
   "types_to_exclude": [
    "module",
    "function",
    "builtin_function_or_method",
    "instance",
    "_Feature"
   ],
   "window_display": false
  }
 },
 "nbformat": 4,
 "nbformat_minor": 2
}
